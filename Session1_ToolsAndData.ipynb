{
 "cells": [
  {
   "cell_type": "markdown",
   "id": "75080caf",
   "metadata": {},
   "source": [
    "# Session 1\n",
    "\n",
    "Let's get hands-on! During today's exercise, we will be starting from the basics: \n",
    "- Accessging the data files from the ATLAS Open Data website.\n",
    "- The tools you will be using to access and visualise: $\\texttt{python}$ in $\\texttt{jupyter notebook}$, $\\texttt{numpy}$ and finally, ROOT.\n",
    "- Histograms and data analysis with $\\texttt{numpy}$.\n",
    "- Lorentz vectors and data analysis with $\\texttt{numpy}$."
   ]
  },
  {
   "cell_type": "markdown",
   "id": "387ba2c8",
   "metadata": {},
   "source": [
    "## ATLAS Open Data\n",
    "\n",
    "[ATLAS Open Data](http://opendata.atlas.cern/) is an open dataset of both simulated and real proton-proton collision events. \n",
    "We will be using the [ATLAS 13 TeV Open Dataset](http://opendata.atlas.cern/release/2020/documentation/datasets/intro.html). \n"
   ]
  },
  {
   "cell_type": "markdown",
   "id": "f322c52c",
   "metadata": {},
   "source": [
    "## Analysis Tools\n",
    "\n",
    "\n",
    "In today's session we will be using $\\texttt{uproot}$ and $\\texttt{numpy}$ to access events in ATLAS Open Data data files. Uproot is a python serialisation library that converts files from a ROOT format (a data format ubiqitiously used in High Energy Physics analysis) to regular arrays so we can manipulate it using regular but powerful python libraries. Specifically, we will be \"uprooting\" the data to arrays in $\\texttt{numpy}$, a python library for multidimensional array and matrix manipulation.\n",
    "\n",
    "\n",
    "We will be analysing the particles from a simulation of the following process:\n",
    "(insert figure)\n",
    "That is, the production of a W-boson and a Z-boson. \n",
    "\n",
    "Some important terminology:\n",
    "- \"leading\" particle: The particle (lepton, quark) with the highest measured transverse momentum.\n",
    "- \"subleading\" particle: The particle (lepton, quark) with the *second* highest measured transverse momentum.\n",
    "(we similarly get \"subsubleading\", and \"subsubsubleading\"...)\n",
    "\n",
    "\n",
    "\n",
    "\n"
   ]
  },
  {
   "cell_type": "code",
   "execution_count": 1,
   "id": "331ebbcc",
   "metadata": {},
   "outputs": [],
   "source": [
    "# Let's first import the necessary libraries and define our global variables\n",
    "import uproot\n",
    "import numpy as np\n",
    "\n",
    "base_url = 'https://atlas-opendata.web.cern.ch/atlas-opendata/samples/2020/2lep/MC/'\n",
    "input_file = 'mc_363358.WqqZll.2lep.root'\n",
    "tree_name = 'mini' # event \"tree\" in which information of each event in the data set are defined:\n",
    "                   # event level information, particles and their properties"
   ]
  },
  {
   "cell_type": "code",
   "execution_count": 2,
   "id": "02dab0bf",
   "metadata": {},
   "outputs": [
    {
     "name": "stdout",
     "output_type": "stream",
     "text": [
      "name                 | typename                 | interpretation                \n",
      "---------------------+--------------------------+-------------------------------\n",
      "runNumber            | int32_t                  | AsDtype('>i4')\n",
      "eventNumber          | int32_t                  | AsDtype('>i4')\n",
      "channelNumber        | int32_t                  | AsDtype('>i4')\n",
      "mcWeight             | float                    | AsDtype('>f4')\n",
      "scaleFactor_PILEUP   | float                    | AsDtype('>f4')\n",
      "scaleFactor_ELE      | float                    | AsDtype('>f4')\n",
      "scaleFactor_MUON     | float                    | AsDtype('>f4')\n",
      "scaleFactor_PHOTON   | float                    | AsDtype('>f4')\n",
      "scaleFactor_TAU      | float                    | AsDtype('>f4')\n",
      "scaleFactor_BTAG     | float                    | AsDtype('>f4')\n",
      "scaleFactor_LepTR... | float                    | AsDtype('>f4')\n",
      "scaleFactor_Photo... | float                    | AsDtype('>f4')\n",
      "trigE                | bool                     | AsDtype('bool')\n",
      "trigM                | bool                     | AsDtype('bool')\n",
      "trigP                | bool                     | AsDtype('bool')\n",
      "lep_n                | uint32_t                 | AsDtype('>u4')\n",
      "lep_truthMatched     | std::vector<bool>        | AsJagged(AsDtype('bool'), h...\n",
      "lep_trigMatched      | std::vector<bool>        | AsJagged(AsDtype('bool'), h...\n",
      "lep_pt               | std::vector<float>       | AsJagged(AsDtype('>f4'), he...\n",
      "lep_eta              | std::vector<float>       | AsJagged(AsDtype('>f4'), he...\n",
      "lep_phi              | std::vector<float>       | AsJagged(AsDtype('>f4'), he...\n",
      "lep_E                | std::vector<float>       | AsJagged(AsDtype('>f4'), he...\n",
      "lep_z0               | std::vector<float>       | AsJagged(AsDtype('>f4'), he...\n",
      "lep_charge           | std::vector<int32_t>     | AsJagged(AsDtype('>i4'), he...\n",
      "lep_type             | std::vector<uint32_t>    | AsJagged(AsDtype('>u4'), he...\n",
      "lep_isTightID        | std::vector<bool>        | AsJagged(AsDtype('bool'), h...\n",
      "lep_ptcone30         | std::vector<float>       | AsJagged(AsDtype('>f4'), he...\n",
      "lep_etcone20         | std::vector<float>       | AsJagged(AsDtype('>f4'), he...\n",
      "lep_trackd0pvunbi... | std::vector<float>       | AsJagged(AsDtype('>f4'), he...\n",
      "lep_tracksigd0pvu... | std::vector<float>       | AsJagged(AsDtype('>f4'), he...\n",
      "met_et               | float                    | AsDtype('>f4')\n",
      "met_phi              | float                    | AsDtype('>f4')\n",
      "jet_n                | uint32_t                 | AsDtype('>u4')\n",
      "jet_pt               | std::vector<float>       | AsJagged(AsDtype('>f4'), he...\n",
      "jet_eta              | std::vector<float>       | AsJagged(AsDtype('>f4'), he...\n",
      "jet_phi              | std::vector<float>       | AsJagged(AsDtype('>f4'), he...\n",
      "jet_E                | std::vector<float>       | AsJagged(AsDtype('>f4'), he...\n",
      "jet_jvt              | std::vector<float>       | AsJagged(AsDtype('>f4'), he...\n",
      "jet_trueflav         | std::vector<int32_t>     | AsJagged(AsDtype('>i4'), he...\n",
      "jet_truthMatched     | std::vector<bool>        | AsJagged(AsDtype('bool'), h...\n",
      "jet_MV2c10           | std::vector<float>       | AsJagged(AsDtype('>f4'), he...\n",
      "photon_n             | uint32_t                 | AsDtype('>u4')\n",
      "photon_truthMatched  | std::vector<bool>        | AsJagged(AsDtype('bool'), h...\n",
      "photon_trigMatched   | std::vector<bool>        | AsJagged(AsDtype('bool'), h...\n",
      "photon_pt            | std::vector<float>       | AsJagged(AsDtype('>f4'), he...\n",
      "photon_eta           | std::vector<float>       | AsJagged(AsDtype('>f4'), he...\n",
      "photon_phi           | std::vector<float>       | AsJagged(AsDtype('>f4'), he...\n",
      "photon_E             | std::vector<float>       | AsJagged(AsDtype('>f4'), he...\n",
      "photon_isTightID     | std::vector<bool>        | AsJagged(AsDtype('bool'), h...\n",
      "photon_ptcone30      | std::vector<float>       | AsJagged(AsDtype('>f4'), he...\n",
      "photon_etcone20      | std::vector<float>       | AsJagged(AsDtype('>f4'), he...\n",
      "photon_convType      | std::vector<int32_t>     | AsJagged(AsDtype('>i4'), he...\n",
      "tau_n                | uint32_t                 | AsDtype('>u4')\n",
      "tau_pt               | std::vector<float>       | AsJagged(AsDtype('>f4'), he...\n",
      "tau_eta              | std::vector<float>       | AsJagged(AsDtype('>f4'), he...\n",
      "tau_phi              | std::vector<float>       | AsJagged(AsDtype('>f4'), he...\n",
      "tau_E                | std::vector<float>       | AsJagged(AsDtype('>f4'), he...\n",
      "tau_isTightID        | std::vector<bool>        | AsJagged(AsDtype('bool'), h...\n",
      "tau_truthMatched     | std::vector<bool>        | AsJagged(AsDtype('bool'), h...\n",
      "tau_trigMatched      | std::vector<bool>        | AsJagged(AsDtype('bool'), h...\n",
      "tau_nTracks          | std::vector<int32_t>     | AsJagged(AsDtype('>i4'), he...\n",
      "tau_BDTid            | std::vector<float>       | AsJagged(AsDtype('>f4'), he...\n",
      "ditau_m              | float                    | AsDtype('>f4')\n",
      "lep_pt_syst          | std::vector<float>       | AsJagged(AsDtype('>f4'), he...\n",
      "met_et_syst          | float                    | AsDtype('>f4')\n",
      "jet_pt_syst          | std::vector<float>       | AsJagged(AsDtype('>f4'), he...\n",
      "photon_pt_syst       | std::vector<float>       | AsJagged(AsDtype('>f4'), he...\n",
      "tau_pt_syst          | std::vector<float>       | AsJagged(AsDtype('>f4'), he...\n",
      "XSection             | float                    | AsDtype('>f4')\n",
      "SumWeights           | float                    | AsDtype('>f4')\n",
      "largeRjet_n          | uint32_t                 | AsDtype('>u4')\n",
      "largeRjet_pt         | std::vector<float>       | AsJagged(AsDtype('>f4'), he...\n",
      "largeRjet_eta        | std::vector<float>       | AsJagged(AsDtype('>f4'), he...\n",
      "largeRjet_phi        | std::vector<float>       | AsJagged(AsDtype('>f4'), he...\n",
      "largeRjet_E          | std::vector<float>       | AsJagged(AsDtype('>f4'), he...\n",
      "largeRjet_m          | std::vector<float>       | AsJagged(AsDtype('>f4'), he...\n",
      "largeRjet_truthMa... | std::vector<float>       | AsJagged(AsDtype('>f4'), he...\n",
      "largeRjet_D2         | std::vector<float>       | AsJagged(AsDtype('>f4'), he...\n",
      "largeRjet_tau32      | std::vector<float>       | AsJagged(AsDtype('>f4'), he...\n",
      "largeRjet_pt_syst    | std::vector<float>       | AsJagged(AsDtype('>f4'), he...\n",
      "tau_charge           | std::vector<int32_t>     | AsJagged(AsDtype('>i4'), he...\n",
      "opened dataset containing:\n",
      " None\n"
     ]
    }
   ],
   "source": [
    "# Next we read in the events\n",
    "\n",
    "events = uproot.open(f\"{base_url}/{input_file}:{tree_name}\")\n",
    "print('opened dataset containing:\\n', events.show())"
   ]
  },
  {
   "cell_type": "code",
   "execution_count": 3,
   "id": "ab7ab123",
   "metadata": {},
   "outputs": [
    {
     "name": "stdout",
     "output_type": "stream",
     "text": [
      "Number of leptons in first 5 events:\n",
      " [2 2 2 2 2]\n",
      "particle kinematics of leading lepton in first 5 events:\n",
      "lepton pT: 62417 MeV, eta: 1.512910.2, phi: 1.207238.2.\n",
      "lepton pT: 38025 MeV, eta: -1.636004.2, phi: 2.182812.2.\n",
      "lepton pT: 65236 MeV, eta: -1.693275.2, phi: -2.032700.2.\n",
      "lepton pT: 66728 MeV, eta: -0.655176.2, phi: -1.797168.2.\n",
      "lepton pT: 57552 MeV, eta: -2.323104.2, phi: -2.603098.2.\n"
     ]
    }
   ],
   "source": [
    "\n",
    "\n",
    "\n",
    "#with uproot.open(f\"{base_url}/{input_file}:{tree_name}\") as indata:\n",
    "    #print('opened dataset containing:\\n', indata.show())\n",
    "\n",
    "\n",
    "# now lets convert the variables we want to analyse into numpy arrays. This may take a few seconds!\n",
    "# The resulting 'lep_kinematics' variable is known as a structured numpy array.\n",
    "lep_kinematics = events.arrays(['lep_n', 'lep_pt', 'lep_eta', 'lep_phi', 'lep_E'], library=\"np\")                    \n",
    "\n",
    "print(\"Number of leptons in first 5 events:\\n\", lep_kinematics['lep_n'][:5])\n",
    "print('particle kinematics of leading lepton in first 5 events:')\n",
    "for i in range(5):\n",
    "    if lep_kinematics['lep_n'][i] >=1:\n",
    "        print('lepton pT: %i MeV, eta: %f.2, phi: %f.2.'%(lep_kinematics['lep_pt'][i][0],lep_kinematics['lep_eta'][i][0], lep_kinematics['lep_phi'][i][0]))\n",
    "    else:\n",
    "        print(\"WARNING No leptons found in this event (number of leptons = %i)\"%(lep_kinematics['lep_n'][i]))\n"
   ]
  },
  {
   "cell_type": "markdown",
   "id": "30859917",
   "metadata": {},
   "source": [
    "### Speeding up your code\n",
    "\n",
    "You may notice that your code runs rather slow when reading in data and converting some of the arrays to numpy.\n",
    "Here is the same code where now the data is analysed in batches instead of reading it all in at once:"
   ]
  },
  {
   "cell_type": "code",
   "execution_count": 55,
   "id": "7363fde9",
   "metadata": {},
   "outputs": [
    {
     "name": "stdout",
     "output_type": "stream",
     "text": [
      "Number of leptons in first 3 events in batch 0:\n",
      " [2 2 2]\n",
      "particle kinematics of leading lepton in first 3 events of batch 0:\n",
      "lepton pT: 62417 MeV, eta: 1.512910.2, phi: 1.207238.2.\n",
      "lepton pT: 38025 MeV, eta: -1.636004.2, phi: 2.182812.2.\n",
      "lepton pT: 65236 MeV, eta: -1.693275.2, phi: -2.032700.2.\n",
      "Number of leptons in first 3 events in batch 1:\n",
      " [2 2 2]\n",
      "particle kinematics of leading lepton in first 3 events of batch 1:\n",
      "lepton pT: 58236 MeV, eta: -1.705614.2, phi: -2.703507.2.\n",
      "lepton pT: 57912 MeV, eta: 0.887950.2, phi: 1.586675.2.\n",
      "lepton pT: 44520 MeV, eta: 0.339882.2, phi: -0.575573.2.\n",
      "Number of leptons in first 3 events in batch 2:\n",
      " [2 2 2]\n",
      "particle kinematics of leading lepton in first 3 events of batch 2:\n",
      "lepton pT: 52448 MeV, eta: -0.716459.2, phi: 2.803750.2.\n",
      "lepton pT: 78945 MeV, eta: -1.640318.2, phi: 1.507818.2.\n",
      "lepton pT: 55456 MeV, eta: 0.429606.2, phi: 1.498738.2.\n",
      "Number of leptons in first 3 events in batch 3:\n",
      " [2 2 2]\n",
      "particle kinematics of leading lepton in first 3 events of batch 3:\n",
      "lepton pT: 42850 MeV, eta: 0.065116.2, phi: 0.598993.2.\n",
      "lepton pT: 70100 MeV, eta: -0.421381.2, phi: -1.721593.2.\n",
      "lepton pT: 115648 MeV, eta: -1.660427.2, phi: 0.052330.2.\n",
      "Number of leptons in first 3 events in batch 4:\n",
      " [2 2 2]\n",
      "particle kinematics of leading lepton in first 3 events of batch 4:\n",
      "lepton pT: 107027 MeV, eta: -1.619055.2, phi: -0.032834.2.\n",
      "lepton pT: 46105 MeV, eta: 0.976435.2, phi: -2.193480.2.\n",
      "lepton pT: 57645 MeV, eta: 1.986572.2, phi: 1.618725.2.\n"
     ]
    }
   ],
   "source": [
    "\n",
    "max_batches = 3\n",
    "\n",
    "for batch_idx,lep_kinematics in enumerate(events.iterate(step_size=50, filter_name='lep_*', library='np')):  # open every 50 events in batches.\n",
    "    print(\"Number of leptons in first 3 events in batch %i:\\n\"%batch_idx, lep_kinematics['lep_n'][:3])\n",
    "    print('particle kinematics of leading lepton in first 3 events of batch %i:'%(batch_idx))\n",
    "    for i in range(3):\n",
    "        if lep_kinematics['lep_n'][i] >=1:\n",
    "            print('lepton pT: %i MeV, eta: %f.2, phi: %f.2.'%(lep_kinematics['lep_pt'][i][0],lep_kinematics['lep_eta'][i][0], lep_kinematics['lep_phi'][i][0]))\n",
    "        else:\n",
    "            print(\"WARNING No leptons found in this event (number of leptons = %i)\"%(lep_kinematics['lep_n'][i]))\n",
    "    if batch_idx > max_batches: break\n"
   ]
  },
  {
   "cell_type": "markdown",
   "id": "f1de5494",
   "metadata": {},
   "source": [
    "## Particle four-momenta\n",
    "\n",
    "Particles are described by their four-momentum, which is a four-component vector consisting of their energy and momentum in the three spatial dimensions. This four-momentum vector is known as a Lorentz vector.\n",
    "The components of a Lorentz vector depend on the frame of reference from which they are measured, and they transform in a specific way under Lorentz transformations, which are the mathematical transformations that relate the measurements made in different frames of reference."
   ]
  },
  {
   "cell_type": "code",
   "execution_count": 50,
   "id": "36a1c95d",
   "metadata": {},
   "outputs": [
    {
     "name": "stdout",
     "output_type": "stream",
     "text": [
      "[92511.83398219025, 91185.36493539161, 86229.26734837508, 92122.68116313628, 89332.6315711778, 90474.58352311443, 90791.51520558207, 94374.15404660848, 93596.02135072868, 94204.00233832821, 91076.55423771452, 91966.81671561356, 92968.44953192878, 91271.37930017979, 91423.27728120697, 90084.43762212561, 88544.04605368918, 91019.270392817, 88520.65444049229, 59954.88830880539, 89182.07379258164, 85746.89109763587, 93988.74719961267, 89160.45724633758, 97888.3611012567, 111060.23417894971, 88558.85148465881, 91527.14839632838, 90398.2282186702, 85755.41837097936, 56204.68420813214, 89903.24723889276, 92898.2391301481, 87800.2415815349, 87694.79878038402, 87771.03097373137, 81909.55355855853, 94280.82009134997, 96284.58221376195, 89946.56874226204, 89149.39109586168, 66496.23010979027, 100370.67886409225, 90500.290905379, 96735.45034578402, 91924.97475371987, 89247.5755973642, 86333.29978793938, 90988.4027819198, 65145.51743576484, 78500.86305245766, 84041.25226968853, 85535.00919991014, 83326.96515492609, 87953.64220067757, 82729.93073917738, 90020.67214319037, 87410.93214476871, 58483.908214298455, 91074.00096961005, 93925.03207661265, 90563.26466167257, 92566.01617698459, 91123.01463804489, 96061.14480589866, 87503.37649607114, 89211.84748702458, 92176.14762705441, 90491.83814581369, 100542.80358638507, 81569.74478996162, 89997.6782722129, 92757.0402397946, 60840.73871419571, 82195.0566350027, 93627.83873002695, 81204.13475538511, 88929.50258795953, 91431.9885928146, 92128.35035960273, 86935.9530326528, 93588.36169344022, 88078.80110736674, 92833.12460702674, 88340.0156661189, 88380.4290635527, 102008.74103838643, 88451.38980558804, 97064.5436186749, 101414.63298648332, 88801.36101115677, 92089.26042330867, 101729.8893528989, 22543.750319286457, 89661.4075865979, 30352.565833793626, 84317.57096237667, 93738.9790227572, 92240.62015734293, 88834.25001945894]\n"
     ]
    }
   ],
   "source": [
    "# write a class that is the four-momentum of a lepton in an event\n",
    "import math\n",
    "\n",
    "class four_momentum:\n",
    "    def __init__(self, pt, eta, phi, E):\n",
    "        self.pt=pt\n",
    "        self.eta=eta\n",
    "        self.phi=phi\n",
    "        self.E=E\n",
    "        self.px = self.pt*math.cos(self.phi)\n",
    "        self.py = self.pt*math.sin(self.phi)\n",
    "        self.pz = self.pt*math.sinh(self.eta)\n",
    "    def M(self):\n",
    "        return math.sqrt(self.E**2 - self.px**2 - self.py**2 - self.pz**2)\n",
    "    def add(self, four_vec):\n",
    "        self.E = self.E+four_vec.E\n",
    "        self.px = self.px + four_vec.px\n",
    "        self.py = self.py + four_vec.py\n",
    "        self.pz = self.pz + four_vec.pz\n",
    "        self.pt = math.sqrt(self.px**2+self.py**2) \n",
    "        self.eta = math.asinh(self.pz/self.pt) \n",
    "        self.phi = math.acos(self.px/self.pt)\n",
    " \n",
    "dilepton_masses = []\n",
    "\n",
    "for i in range(100):\n",
    "    lepton_1 = four_momentum(lep_kinematics['lep_pt'][i][0], lep_kinematics['lep_eta'][i][0], lep_kinematics['lep_phi'][i][0], lep_kinematics['lep_E'][i][0])\n",
    "    lepton_2 = four_momentum(lep_kinematics['lep_pt'][i][1], lep_kinematics['lep_eta'][i][1], lep_kinematics['lep_phi'][i][1], lep_kinematics['lep_E'][i][1])\n",
    "    lepton_1.add(lepton_2)\n",
    "    dilepton = lepton_1\n",
    "    dilepton_masses.append(dilepton.M())\n",
    "    \n",
    "    \n",
    "print(dilepton_masses)\n",
    "    \n"
   ]
  },
  {
   "cell_type": "markdown",
   "id": "fd89723a",
   "metadata": {},
   "source": [
    "**Question**: How do we analyse these values of invariant mass of the dilepton system? "
   ]
  },
  {
   "cell_type": "markdown",
   "id": "fe3ab580",
   "metadata": {},
   "source": [
    "### Making a simple histogram\n",
    "\n",
    "Histograms are fundamental to data analysis. They are a graphical representation of the distribution of a dataset; A way to visualize the frequency distribution of a set of continuous or discrete data.\n",
    "In particle physics, histograms are often used to visualize the distribution of particle properties such as energy, momentum, or mass. A histogram is created by dividing the range of the data into a set of \"bins\" and counting the number of events that fall into each bin. The height of each bin represents the frequency of events that fall into that bin.\n",
    "\n",
    "Thus, a histogram will be defined by its bin edges and the number of entries in each bin.\n",
    "Let's make a histogram of the transverse momentum of the leading and subleading lepton and fit it with a function."
   ]
  },
  {
   "cell_type": "code",
   "execution_count": 8,
   "id": "560de568",
   "metadata": {},
   "outputs": [],
   "source": [
    "import math\n",
    "\n",
    "# Retrieve the kinematic variables (again)\n",
    "lep_kinematics = events.arrays(['lep_pt', 'lep_eta', 'lep_phi', 'lep_E'], library=\"np\") \n",
    "\n",
    "lepton1_eta = lep_kinematics['lep_eta'][:][:1] \n",
    "lepton1_phi = lep_kinematics['lep_phi'][:][:1] \n",
    "lepton2_eta = lep_kinematics['lep_eta'][:][1:] \n",
    "lepton2_phi = lep_kinematics['lep_phi'][:][1:] \n",
    "\n",
    "#print(lepton1_eta)\n",
    "#print(lepton1_phi)\n",
    "#print(lepton2_eta)\n",
    "#print(lepton2_phi)\n"
   ]
  },
  {
   "cell_type": "code",
   "execution_count": 9,
   "id": "6a32b3fb",
   "metadata": {},
   "outputs": [
    {
     "name": "stdout",
     "output_type": "stream",
     "text": [
      "histogram bin edges:  [  0   5  10  15  20  25  30  35  40  45  50  55  60  65  70  75  80  85\n",
      "  90  95 100]\n",
      "total number of histogram bin edges:  21\n"
     ]
    }
   ],
   "source": [
    "# define your histogram in numpy\n",
    "\n",
    "bin_width = 5 # GeV\n",
    "max_pt = 100\n",
    "\n",
    "upper_bin_edges = np.array(np.arange(0, max_pt+bin_width, bin_width))\n",
    "print('histogram bin edges: ', upper_bin_edges)\n",
    "print('total number of histogram bin edges: ', len(upper_bin_edges))"
   ]
  },
  {
   "cell_type": "code",
   "execution_count": 40,
   "id": "431cab8f",
   "metadata": {},
   "outputs": [],
   "source": [
    "# Now fill the bins.\n",
    "# Here we are treating the first bin as the underflow and the last bin as the overflow.\n",
    "\n",
    "\n",
    "h_lep_1_pt = np.array([0]*len(upper_bin_edges))#np.zeros(upper_bin_edges)\n",
    "h_lep_2_pt = np.array([0]*len(upper_bin_edges))#np.zeros(upper_bin_edges)\n",
    "\n",
    "\n",
    "for i, lep_pts in enumerate(lep_kinematics['lep_pt']):\n",
    "    #if lep_kinematics['lep_n'][i] < 2: continue\n",
    "    leading_lep_pt = lep_pts[0]*1e-3 # convert momentum from MeV to GeV\n",
    "    subleading_lep_pt = lep_pts[1]*1e-3 # convert momentum from MeV to GeV\n",
    "    for bin_idx, bin_edge in enumerate(upper_bin_edges):\n",
    "        if leading_lep_pt < bin_edge:\n",
    "            h_lep_1_pt[bin_idx]+=1\n",
    "            break\n",
    "    for bin_idx, bin_edge in enumerate(upper_bin_edges):\n",
    "        if subleading_lep_pt < bin_edge:\n",
    "            h_lep_2_pt[bin_idx]+=1\n",
    "            break\n",
    "            \n",
    "#print(bin_entries)\n",
    "    "
   ]
  },
  {
   "cell_type": "code",
   "execution_count": 41,
   "id": "43b5a6b4",
   "metadata": {},
   "outputs": [
    {
     "data": {
      "image/png": "[encoded data removed]",
      "text/plain": [
       "<Figure size 432x288 with 1 Axes>"
      ]
     },
     "metadata": {
      "needs_background": "light"
     },
     "output_type": "display_data"
    }
   ],
   "source": [
    "import matplotlib.pyplot as plt\n",
    "\n",
    "#fig, ax = plt.subplots(figsize=(8,6))\n",
    "\n",
    "center_bin_edges = upper_bin_edges-bin_width/2.\n",
    "\n",
    "#plt.plot(center_bin_edges, h_lep_1_pt, label = 'leading lepton', ls = \"step\")\n",
    "#plt.plot(center_bin_edges, h_lep_2_pt, label = 'subleading lepton', ls = \"step\")\n",
    "\n",
    "plt.bar(center_bin_edges, h_lep_1_pt, width=bin_width, label = 'leading lepton', alpha=0.5, color='blue')\n",
    "plt.bar(center_bin_edges, h_lep_2_pt, width=bin_width, label = 'subleading lepton', alpha=0.5, color='orange')\n",
    "legend = plt.legend(loc=\"upper right\")\n",
    "\n",
    "plt.show()\n",
    "\n"
   ]
  },
  {
   "cell_type": "markdown",
   "id": "a8d2dcee",
   "metadata": {},
   "source": [
    "Questions:\n",
    "- What units would you assign the y-axis of your histogram?\n",
    "- Is the charge diagram a histogram?\n",
    "- Bonus: What is the invariant mass of the dijet system in the dijet production rest frame?"
   ]
  },
  {
   "cell_type": "code",
   "execution_count": 55,
   "id": "7f849b1f",
   "metadata": {},
   "outputs": [
    {
     "name": "stdout",
     "output_type": "stream",
     "text": [
      "histogram bin edges:  [  0   2   4   6   8  10  12  14  16  18  20  22  24  26  28  30  32  34\n",
      "  36  38  40  42  44  46  48  50  52  54  56  58  60  62  64  66  68  70\n",
      "  72  74  76  78  80  82  84  86  88  90  92  94  96  98 100 102 104 106\n",
      " 108 110 112 114 116 118 120 122 124 126 128 130 132 134 136 138 140 142\n",
      " 144 146 148 150]\n",
      "numpy bin edges:  [  0.   2.   4.   6.   8.  10.  12.  14.  16.  18.  20.  22.  24.  26.\n",
      "  28.  30.  32.  34.  36.  38.  40.  42.  44.  46.  48.  50.  52.  54.\n",
      "  56.  58.  60.  62.  64.  66.  68.  70.  72.  74.  76.  78.  80.  82.\n",
      "  84.  86.  88.  90.  92.  94.  96.  98. 100. 102. 104. 106. 108. 110.\n",
      " 112. 114. 116. 118. 120. 122. 124. 126. 128. 130. 132. 134. 136. 138.\n",
      " 140. 142. 144. 146. 148. 150.]\n",
      "[92.51183398 91.18536494 86.22926735 92.12268116 89.33263157 90.47458352\n",
      " 90.79151521 94.37415405 93.59602135 94.20400234 91.07655424 91.96681672\n",
      " 92.96844953 91.2713793  91.42327728 90.08443762 88.54404605 91.01927039\n",
      " 88.52065444 59.95488831]\n",
      "[ 0.  0.  0.  0.  0.  0.  0.  0.  0.  0.  0.  0.  1.  0.  0.  0.  1.  0.\n",
      "  0.  0.  0.  0.  0.  0.  0.  0.  0.  0.  0.  1.  2.  1.  0.  1.  1.  0.\n",
      "  0.  0.  0.  0.  1.  3.  3.  5.  9. 20. 20. 17.  3.  5.  0.  4.  1.  0.\n",
      "  0.  0.  1.  0.  0.  0.  0.  0.  0.  0.  0.  0.  0.  0.  0.  0.  0.  0.\n",
      "  0.  0.  0.  0.]\n",
      "[ 0  0  0  0  0  0  0  0  0  0  0  1  0  0  0  1  0  0  0  0  0  0  0  0\n",
      "  0  0  0  0  1  2  1  0  1  1  0  0  0  0  0  1  3  3  5  9 20 20 17  3\n",
      "  5  0  4  1  0  0  0  1  0  0  0  0  0  0  0  0  0  0  0  0  0  0  0  0\n",
      "  0  0  0]\n"
     ]
    }
   ],
   "source": [
    "# define your histogram in numpy method 1\n",
    "\n",
    "bin_width = 2 # GeV\n",
    "max_M = 150 # GeV\n",
    "hrange = (0, max_M)\n",
    "bins = int((hrange[1]-hrange[0])/bin_width)\n",
    "\n",
    "upper_bin_edges = np.array(np.arange(0, max_M+bin_width, bin_width))\n",
    "print('histogram bin edges: ', upper_bin_edges)\n",
    "h_lep12_M = np.array(np.zeros(len(upper_bin_edges)))\n",
    "\n",
    "dileptonM_GeV = np.array(dilepton_masses)*1e-3\n",
    "\n",
    "for i, dM in enumerate(dileptonM_GeV):\n",
    "    for bin_idx, bin_edge in enumerate(upper_bin_edges):\n",
    "        if dM < bin_edge:\n",
    "            h_lep12_M[bin_idx]+=1\n",
    "            break\n",
    "\n",
    "            \n",
    "np_lep12_M, np_bin_edges = np.histogram(dileptonM_GeV, bins=bins, range=hrange)\n",
    "\n",
    "print('numpy bin edges: ', np_bin_edges)\n",
    "\n",
    "print(dileptonM_GeV[:20])\n",
    "print(h_lep12_M.astype(float))\n",
    "print(np_lep12_M)\n",
    "\n",
    "\n",
    "#plt.bar()\n",
    "\n"
   ]
  },
  {
   "cell_type": "code",
   "execution_count": 56,
   "id": "8cf57830",
   "metadata": {},
   "outputs": [
    {
     "data": {
      "image/png": "[encoded data removed]",
      "text/plain": [
       "<Figure size 432x288 with 1 Axes>"
      ]
     },
     "metadata": {
      "needs_background": "light"
     },
     "output_type": "display_data"
    }
   ],
   "source": [
    "import matplotlib.pyplot as plt\n",
    "\n",
    "#fig, ax = plt.subplots(figsize=(8,6))\n",
    "\n",
    "#lower_bin_edges = upper_bin_edges-bin_width/2.\n",
    "#np_center_bin_edges = np_bin_edges-bin_width/2.\n",
    "\n",
    "\n",
    "#plt.plot(center_bin_edges, h_lep_1_pt, label = 'leading lepton', ls = \"step\")\n",
    "#plt.plot(center_bin_edges, h_lep_2_pt, label = 'subleading lepton', ls = \"step\")\n",
    "\n",
    "plt.bar(upper_bin_edges[:-1], h_lep12_M[1:], width=bin_width, label = 'my hist', color='blue', alpha=0.5)\n",
    "plt.bar(np_bin_edges[:-1], np_lep12_M, width=bin_width, label = 'numpy hist', color='orange', alpha=0.5)\n",
    "legend = plt.legend(loc=\"upper right\")\n",
    "\n",
    "plt.show()\n"
   ]
  },
  {
   "cell_type": "code",
   "execution_count": null,
   "id": "29e8982d",
   "metadata": {},
   "outputs": [],
   "source": []
  }
 ],
 "metadata": {
  "celltoolbar": "Slideshow",
  "kernelspec": {
   "display_name": "Python 3",
   "language": "python",
   "name": "python3"
  },
  "language_info": {
   "codemirror_mode": {
    "name": "ipython",
    "version": 3
   },
   "file_extension": ".py",
   "mimetype": "text/x-python",
   "name": "python",
   "nbconvert_exporter": "python",
   "pygments_lexer": "ipython3",
   "version": "3.9.12"
  }
 },
 "nbformat": 4,
 "nbformat_minor": 5
}
